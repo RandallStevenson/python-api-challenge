{
 "cells": [
  {
   "cell_type": "markdown",
   "metadata": {},
   "source": [
    "# VacationPy\n",
    "----\n",
    "\n",
    "#### Note\n",
    "* Instructions have been included for each segment. You do not have to follow them exactly, but they are included to help you think through the steps."
   ]
  },
  {
   "cell_type": "code",
   "execution_count": 1,
   "metadata": {},
   "outputs": [],
   "source": [
    "# Dependencies and Setup\n",
    "import matplotlib.pyplot as plt\n",
    "import pandas as pd\n",
    "import numpy as np\n",
    "import requests\n",
    "import gmaps\n",
    "import os\n",
    "\n",
    "# Import API key\n",
    "from api_keys import g_key\n"
   ]
  },
  {
   "cell_type": "markdown",
   "metadata": {},
   "source": [
    "### Store Part I results into DataFrame\n",
    "* Load the csv exported in Part I to a DataFrame"
   ]
  },
  {
   "cell_type": "code",
   "execution_count": 2,
   "metadata": {},
   "outputs": [
    {
     "data": {
      "text/html": [
       "<div>\n",
       "<style scoped>\n",
       "    .dataframe tbody tr th:only-of-type {\n",
       "        vertical-align: middle;\n",
       "    }\n",
       "\n",
       "    .dataframe tbody tr th {\n",
       "        vertical-align: top;\n",
       "    }\n",
       "\n",
       "    .dataframe thead th {\n",
       "        text-align: right;\n",
       "    }\n",
       "</style>\n",
       "<table border=\"1\" class=\"dataframe\">\n",
       "  <thead>\n",
       "    <tr style=\"text-align: right;\">\n",
       "      <th></th>\n",
       "      <th>Unnamed: 0</th>\n",
       "      <th>city</th>\n",
       "      <th>id</th>\n",
       "      <th>lat</th>\n",
       "      <th>temp</th>\n",
       "      <th>humidity</th>\n",
       "      <th>clouds</th>\n",
       "      <th>wind</th>\n",
       "      <th>lng</th>\n",
       "      <th>Country</th>\n",
       "    </tr>\n",
       "  </thead>\n",
       "  <tbody>\n",
       "    <tr>\n",
       "      <td>0</td>\n",
       "      <td>0</td>\n",
       "      <td>Ardakān</td>\n",
       "      <td>143073</td>\n",
       "      <td>32.31</td>\n",
       "      <td>68.00</td>\n",
       "      <td>33</td>\n",
       "      <td>40</td>\n",
       "      <td>13.87</td>\n",
       "      <td>54.02</td>\n",
       "      <td>IR</td>\n",
       "    </tr>\n",
       "    <tr>\n",
       "      <td>1</td>\n",
       "      <td>1</td>\n",
       "      <td>Ushuaia</td>\n",
       "      <td>3833367</td>\n",
       "      <td>-54.80</td>\n",
       "      <td>55.40</td>\n",
       "      <td>47</td>\n",
       "      <td>20</td>\n",
       "      <td>6.93</td>\n",
       "      <td>-68.30</td>\n",
       "      <td>AR</td>\n",
       "    </tr>\n",
       "    <tr>\n",
       "      <td>2</td>\n",
       "      <td>2</td>\n",
       "      <td>Cañon City</td>\n",
       "      <td>5416005</td>\n",
       "      <td>38.44</td>\n",
       "      <td>39.11</td>\n",
       "      <td>80</td>\n",
       "      <td>90</td>\n",
       "      <td>6.98</td>\n",
       "      <td>-105.24</td>\n",
       "      <td>US</td>\n",
       "    </tr>\n",
       "    <tr>\n",
       "      <td>3</td>\n",
       "      <td>3</td>\n",
       "      <td>Aklavik</td>\n",
       "      <td>5882953</td>\n",
       "      <td>68.22</td>\n",
       "      <td>23.70</td>\n",
       "      <td>67</td>\n",
       "      <td>90</td>\n",
       "      <td>9.17</td>\n",
       "      <td>-135.01</td>\n",
       "      <td>CA</td>\n",
       "    </tr>\n",
       "    <tr>\n",
       "      <td>4</td>\n",
       "      <td>4</td>\n",
       "      <td>Punta Arenas</td>\n",
       "      <td>3874787</td>\n",
       "      <td>-53.15</td>\n",
       "      <td>59.00</td>\n",
       "      <td>58</td>\n",
       "      <td>75</td>\n",
       "      <td>20.80</td>\n",
       "      <td>-70.92</td>\n",
       "      <td>CL</td>\n",
       "    </tr>\n",
       "  </tbody>\n",
       "</table>\n",
       "</div>"
      ],
      "text/plain": [
       "   Unnamed: 0          city       id    lat   temp  humidity  clouds   wind  \\\n",
       "0           0       Ardakān   143073  32.31  68.00        33      40  13.87   \n",
       "1           1       Ushuaia  3833367 -54.80  55.40        47      20   6.93   \n",
       "2           2    Cañon City  5416005  38.44  39.11        80      90   6.98   \n",
       "3           3       Aklavik  5882953  68.22  23.70        67      90   9.17   \n",
       "4           4  Punta Arenas  3874787 -53.15  59.00        58      75  20.80   \n",
       "\n",
       "      lng Country  \n",
       "0   54.02      IR  \n",
       "1  -68.30      AR  \n",
       "2 -105.24      US  \n",
       "3 -135.01      CA  \n",
       "4  -70.92      CL  "
      ]
     },
     "execution_count": 2,
     "metadata": {},
     "output_type": "execute_result"
    }
   ],
   "source": [
    "# Get results from first part\n",
    "vac_df=pd.read_csv('outputfile_ras.csv')\n",
    "# Drop any rowswith NaN\n",
    "vac_df=vac_df.dropna()\n",
    "\n",
    "# Look at header for column names\n",
    "vac_df.head()"
   ]
  },
  {
   "cell_type": "code",
   "execution_count": 3,
   "metadata": {
    "scrolled": false
   },
   "outputs": [
    {
     "data": {
      "text/html": [
       "<div>\n",
       "<style scoped>\n",
       "    .dataframe tbody tr th:only-of-type {\n",
       "        vertical-align: middle;\n",
       "    }\n",
       "\n",
       "    .dataframe tbody tr th {\n",
       "        vertical-align: top;\n",
       "    }\n",
       "\n",
       "    .dataframe thead th {\n",
       "        text-align: right;\n",
       "    }\n",
       "</style>\n",
       "<table border=\"1\" class=\"dataframe\">\n",
       "  <thead>\n",
       "    <tr style=\"text-align: right;\">\n",
       "      <th></th>\n",
       "      <th>city</th>\n",
       "      <th>lat</th>\n",
       "      <th>lng</th>\n",
       "      <th>temp</th>\n",
       "      <th>humidity</th>\n",
       "      <th>wind</th>\n",
       "      <th>clouds</th>\n",
       "      <th>Country</th>\n",
       "    </tr>\n",
       "  </thead>\n",
       "  <tbody>\n",
       "    <tr>\n",
       "      <td>0</td>\n",
       "      <td>Ardakān</td>\n",
       "      <td>32.31</td>\n",
       "      <td>54.02</td>\n",
       "      <td>68.00</td>\n",
       "      <td>33</td>\n",
       "      <td>13.87</td>\n",
       "      <td>40</td>\n",
       "      <td>IR</td>\n",
       "    </tr>\n",
       "    <tr>\n",
       "      <td>1</td>\n",
       "      <td>Ushuaia</td>\n",
       "      <td>-54.80</td>\n",
       "      <td>-68.30</td>\n",
       "      <td>55.40</td>\n",
       "      <td>47</td>\n",
       "      <td>6.93</td>\n",
       "      <td>20</td>\n",
       "      <td>AR</td>\n",
       "    </tr>\n",
       "    <tr>\n",
       "      <td>2</td>\n",
       "      <td>Cañon City</td>\n",
       "      <td>38.44</td>\n",
       "      <td>-105.24</td>\n",
       "      <td>39.11</td>\n",
       "      <td>80</td>\n",
       "      <td>6.98</td>\n",
       "      <td>90</td>\n",
       "      <td>US</td>\n",
       "    </tr>\n",
       "    <tr>\n",
       "      <td>3</td>\n",
       "      <td>Aklavik</td>\n",
       "      <td>68.22</td>\n",
       "      <td>-135.01</td>\n",
       "      <td>23.70</td>\n",
       "      <td>67</td>\n",
       "      <td>9.17</td>\n",
       "      <td>90</td>\n",
       "      <td>CA</td>\n",
       "    </tr>\n",
       "    <tr>\n",
       "      <td>4</td>\n",
       "      <td>Punta Arenas</td>\n",
       "      <td>-53.15</td>\n",
       "      <td>-70.92</td>\n",
       "      <td>59.00</td>\n",
       "      <td>58</td>\n",
       "      <td>20.80</td>\n",
       "      <td>75</td>\n",
       "      <td>CL</td>\n",
       "    </tr>\n",
       "  </tbody>\n",
       "</table>\n",
       "</div>"
      ],
      "text/plain": [
       "           city    lat     lng   temp  humidity   wind  clouds Country\n",
       "0       Ardakān  32.31   54.02  68.00        33  13.87      40      IR\n",
       "1       Ushuaia -54.80  -68.30  55.40        47   6.93      20      AR\n",
       "2    Cañon City  38.44 -105.24  39.11        80   6.98      90      US\n",
       "3       Aklavik  68.22 -135.01  23.70        67   9.17      90      CA\n",
       "4  Punta Arenas -53.15  -70.92  59.00        58  20.80      75      CL"
      ]
     },
     "execution_count": 3,
     "metadata": {},
     "output_type": "execute_result"
    }
   ],
   "source": [
    "# Select columns desired\n",
    "\n",
    "vac_df=vac_df[['city','lat','lng','temp','humidity','wind','clouds','Country']]\n",
    "vac_df.head()\n",
    "\n"
   ]
  },
  {
   "cell_type": "markdown",
   "metadata": {},
   "source": [
    "### Humidity Heatmap\n",
    "* Configure gmaps.\n",
    "* Use the Lat and Lng as locations and Humidity as the weight.\n",
    "* Add Heatmap layer to map."
   ]
  },
  {
   "cell_type": "code",
   "execution_count": 4,
   "metadata": {},
   "outputs": [],
   "source": [
    "import gmaps\n",
    "gmaps.configure(api_key=g_key)\n"
   ]
  },
  {
   "cell_type": "code",
   "execution_count": 5,
   "metadata": {
    "scrolled": true
   },
   "outputs": [
    {
     "data": {
      "application/vnd.jupyter.widget-view+json": {
       "model_id": "f92e189c58634537b81b40125d80825b",
       "version_major": 2,
       "version_minor": 0
      },
      "text/plain": [
       "Figure(layout=FigureLayout(height='420px'))"
      ]
     },
     "metadata": {},
     "output_type": "display_data"
    }
   ],
   "source": [
    "locations=vac_df[['lat','lng']].astype(float)\n",
    "\n",
    "wt=vac_df['humidity'].astype(float)\n",
    "\n",
    "fig=gmaps.figure()\n",
    "\n",
    "heat_layer = gmaps.heatmap_layer(locations, weights=wt, \n",
    "                                 dissipating=False, max_intensity=100,\n",
    "                                 point_radius = 1)\n",
    "fig.add_layer(heat_layer)\n",
    "fig\n"
   ]
  },
  {
   "cell_type": "markdown",
   "metadata": {},
   "source": [
    "### Create new DataFrame fitting weather criteria\n",
    "* Narrow down the cities to fit weather conditions.\n",
    "* Drop any rows will null values."
   ]
  },
  {
   "cell_type": "code",
   "execution_count": 6,
   "metadata": {},
   "outputs": [
    {
     "data": {
      "text/plain": [
       "13"
      ]
     },
     "execution_count": 6,
     "metadata": {},
     "output_type": "execute_result"
    }
   ],
   "source": [
    "# Wind <=10 mph\n",
    "vac1_df=vac_df[vac_df['wind']<=10]\n",
    "# Temp 45-85\n",
    "vac1_df=vac1_df[vac1_df['temp']<=85]\n",
    "vac1_df=vac1_df[vac1_df['temp']>=45]\n",
    "# clouds<=20%, because I like the stars/astronomy\n",
    "vac1_df=vac1_df[vac1_df['clouds']<=20]\n",
    "#humidity <= 50%\n",
    "vac1_df=vac1_df[vac1_df['humidity']<=50]\n",
    "vac1_df=vac1_df.dropna()\n",
    "len(vac1_df)"
   ]
  },
  {
   "cell_type": "markdown",
   "metadata": {},
   "source": [
    "# Guessing this will put me in the desert, which is a good place to star gaze"
   ]
  },
  {
   "cell_type": "markdown",
   "metadata": {},
   "source": [
    "### Hotel Map\n",
    "* Store into variable named `hotel_df`.\n",
    "* Add a \"Hotel Name\" column to the DataFrame.\n",
    "* Set parameters to search for hotels with 5000 meters.\n",
    "* Hit the Google Places API for each city's coordinates.\n",
    "* Store the first Hotel result into the DataFrame.\n",
    "* Plot markers on top of the heatmap."
   ]
  },
  {
   "cell_type": "markdown",
   "metadata": {},
   "source": [
    "# Sentence fragment.  What is the object of the verb 'store'? I have no idea. The instructions for this assignment and the examples provided are not very helpful. (But I cannot imagine ever needing this in what I do.) Why hit Google places for something already in the dataframe (coords)? (This assignment does not make sense.)"
   ]
  },
  {
   "cell_type": "code",
   "execution_count": 7,
   "metadata": {},
   "outputs": [
    {
     "data": {
      "text/html": [
       "<div>\n",
       "<style scoped>\n",
       "    .dataframe tbody tr th:only-of-type {\n",
       "        vertical-align: middle;\n",
       "    }\n",
       "\n",
       "    .dataframe tbody tr th {\n",
       "        vertical-align: top;\n",
       "    }\n",
       "\n",
       "    .dataframe thead th {\n",
       "        text-align: right;\n",
       "    }\n",
       "</style>\n",
       "<table border=\"1\" class=\"dataframe\">\n",
       "  <thead>\n",
       "    <tr style=\"text-align: right;\">\n",
       "      <th></th>\n",
       "      <th>city</th>\n",
       "      <th>lat</th>\n",
       "      <th>lng</th>\n",
       "      <th>Country</th>\n",
       "      <th>Hotel Name</th>\n",
       "    </tr>\n",
       "  </thead>\n",
       "  <tbody>\n",
       "    <tr>\n",
       "      <td>0</td>\n",
       "      <td>Ushuaia</td>\n",
       "      <td>-54.80</td>\n",
       "      <td>-68.30</td>\n",
       "      <td>AR</td>\n",
       "      <td></td>\n",
       "    </tr>\n",
       "    <tr>\n",
       "      <td>1</td>\n",
       "      <td>Nālūt</td>\n",
       "      <td>30.33</td>\n",
       "      <td>10.85</td>\n",
       "      <td>LY</td>\n",
       "      <td></td>\n",
       "    </tr>\n",
       "    <tr>\n",
       "      <td>2</td>\n",
       "      <td>Atar</td>\n",
       "      <td>20.52</td>\n",
       "      <td>-13.05</td>\n",
       "      <td>MR</td>\n",
       "      <td></td>\n",
       "    </tr>\n",
       "    <tr>\n",
       "      <td>3</td>\n",
       "      <td>Taoudenni</td>\n",
       "      <td>22.68</td>\n",
       "      <td>-3.98</td>\n",
       "      <td>ML</td>\n",
       "      <td></td>\n",
       "    </tr>\n",
       "    <tr>\n",
       "      <td>4</td>\n",
       "      <td>Nanzhang</td>\n",
       "      <td>31.78</td>\n",
       "      <td>111.84</td>\n",
       "      <td>CN</td>\n",
       "      <td></td>\n",
       "    </tr>\n",
       "  </tbody>\n",
       "</table>\n",
       "</div>"
      ],
      "text/plain": [
       "        city    lat     lng Country Hotel Name\n",
       "0    Ushuaia -54.80  -68.30      AR           \n",
       "1      Nālūt  30.33   10.85      LY           \n",
       "2       Atar  20.52  -13.05      MR           \n",
       "3  Taoudenni  22.68   -3.98      ML           \n",
       "4   Nanzhang  31.78  111.84      CN           "
      ]
     },
     "execution_count": 7,
     "metadata": {},
     "output_type": "execute_result"
    }
   ],
   "source": [
    "dex=np.arange(0,len(vac1_df.index))\n",
    "hotel1_df=pd.DataFrame(vac1_df)\n",
    "city_list=vac1_df['city'].tolist()\n",
    "hotel_df=pd.DataFrame({'city':city_list},index=dex)\n",
    "hotel_df['city']=vac1_df['city'].tolist()\n",
    "hotel_df['lat']=vac1_df['lat'].tolist()\n",
    "hotel_df['lng']=vac1_df['lng'].tolist()\n",
    "hotel_df['Country']=vac1_df['Country'].tolist()\n",
    "hotel_df['Hotel Name']=''\n",
    "hotel_df.head()"
   ]
  },
  {
   "cell_type": "code",
   "execution_count": 8,
   "metadata": {
    "scrolled": false
   },
   "outputs": [
    {
     "data": {
      "text/html": [
       "<div>\n",
       "<style scoped>\n",
       "    .dataframe tbody tr th:only-of-type {\n",
       "        vertical-align: middle;\n",
       "    }\n",
       "\n",
       "    .dataframe tbody tr th {\n",
       "        vertical-align: top;\n",
       "    }\n",
       "\n",
       "    .dataframe thead th {\n",
       "        text-align: right;\n",
       "    }\n",
       "</style>\n",
       "<table border=\"1\" class=\"dataframe\">\n",
       "  <thead>\n",
       "    <tr style=\"text-align: right;\">\n",
       "      <th></th>\n",
       "      <th>city</th>\n",
       "      <th>lat</th>\n",
       "      <th>lng</th>\n",
       "      <th>Country</th>\n",
       "      <th>Hotel Name</th>\n",
       "    </tr>\n",
       "  </thead>\n",
       "  <tbody>\n",
       "    <tr>\n",
       "      <td>0</td>\n",
       "      <td>Ushuaia</td>\n",
       "      <td>-54.80</td>\n",
       "      <td>-68.30</td>\n",
       "      <td>AR</td>\n",
       "      <td>Los Cauquenes Resort &amp; Spa</td>\n",
       "    </tr>\n",
       "    <tr>\n",
       "      <td>1</td>\n",
       "      <td>Nālūt</td>\n",
       "      <td>30.33</td>\n",
       "      <td>10.85</td>\n",
       "      <td>LY</td>\n",
       "      <td>HHC Hotels LLC</td>\n",
       "    </tr>\n",
       "    <tr>\n",
       "      <td>2</td>\n",
       "      <td>Atar</td>\n",
       "      <td>20.52</td>\n",
       "      <td>-13.05</td>\n",
       "      <td>MR</td>\n",
       "      <td>Odar kanawal</td>\n",
       "    </tr>\n",
       "    <tr>\n",
       "      <td>3</td>\n",
       "      <td>Taoudenni</td>\n",
       "      <td>22.68</td>\n",
       "      <td>-3.98</td>\n",
       "      <td>ML</td>\n",
       "      <td>HHC Hotels LLC</td>\n",
       "    </tr>\n",
       "    <tr>\n",
       "      <td>4</td>\n",
       "      <td>Nanzhang</td>\n",
       "      <td>31.78</td>\n",
       "      <td>111.84</td>\n",
       "      <td>CN</td>\n",
       "      <td>南漳青豪旅馆</td>\n",
       "    </tr>\n",
       "    <tr>\n",
       "      <td>5</td>\n",
       "      <td>Ures</td>\n",
       "      <td>29.43</td>\n",
       "      <td>-110.40</td>\n",
       "      <td>MX</td>\n",
       "      <td>Hacienda del Labrador</td>\n",
       "    </tr>\n",
       "    <tr>\n",
       "      <td>6</td>\n",
       "      <td>Danielskuil</td>\n",
       "      <td>-28.19</td>\n",
       "      <td>23.54</td>\n",
       "      <td>ZA</td>\n",
       "      <td>Old Post Guest House</td>\n",
       "    </tr>\n",
       "    <tr>\n",
       "      <td>7</td>\n",
       "      <td>Bariloche</td>\n",
       "      <td>-41.15</td>\n",
       "      <td>-71.31</td>\n",
       "      <td>AR</td>\n",
       "      <td>La Justina</td>\n",
       "    </tr>\n",
       "    <tr>\n",
       "      <td>8</td>\n",
       "      <td>Changping</td>\n",
       "      <td>40.22</td>\n",
       "      <td>116.22</td>\n",
       "      <td>CN</td>\n",
       "      <td>Beijing Marriott Hotel Changping</td>\n",
       "    </tr>\n",
       "    <tr>\n",
       "      <td>9</td>\n",
       "      <td>Adrar</td>\n",
       "      <td>20.50</td>\n",
       "      <td>-10.07</td>\n",
       "      <td>MR</td>\n",
       "      <td>HHC Hotels LLC</td>\n",
       "    </tr>\n",
       "  </tbody>\n",
       "</table>\n",
       "</div>"
      ],
      "text/plain": [
       "          city    lat     lng Country                        Hotel Name\n",
       "0      Ushuaia -54.80  -68.30      AR        Los Cauquenes Resort & Spa\n",
       "1        Nālūt  30.33   10.85      LY                    HHC Hotels LLC\n",
       "2         Atar  20.52  -13.05      MR                      Odar kanawal\n",
       "3    Taoudenni  22.68   -3.98      ML                    HHC Hotels LLC\n",
       "4     Nanzhang  31.78  111.84      CN                            南漳青豪旅馆\n",
       "5         Ures  29.43 -110.40      MX             Hacienda del Labrador\n",
       "6  Danielskuil -28.19   23.54      ZA              Old Post Guest House\n",
       "7    Bariloche -41.15  -71.31      AR                        La Justina\n",
       "8    Changping  40.22  116.22      CN  Beijing Marriott Hotel Changping\n",
       "9        Adrar  20.50  -10.07      MR                    HHC Hotels LLC"
      ]
     },
     "execution_count": 8,
     "metadata": {},
     "output_type": "execute_result"
    }
   ],
   "source": [
    "import json\n",
    "hotel_list=[]\n",
    "locations=[]\n",
    "for index, row in hotel_df.iterrows():\n",
    "    lat1=hotel_df.iloc[index,1]\n",
    "    long1=hotel_df.iloc[index,2]\n",
    "    coord=f\"{lat1}, {long1}\"\n",
    "    locations.append(coord)\n",
    "    url=f\"https://maps.googleapis.com/maps/api/place/findplacefromtext/json?\"\n",
    "    req=f\"input=lodging&inputtype=textquery&fields=name,rating&locationbias=circle:5000@{coord}&key={g_key}\"\n",
    "    response=requests.get(url+req)\n",
    "    response_json=response.json()\n",
    "    hotel_list.append(response_json['candidates'][0]['name'])\n",
    "    \n",
    "hotel_df['Hotel Name']=hotel_list\n",
    "hotel_df.head(10)"
   ]
  },
  {
   "cell_type": "code",
   "execution_count": 9,
   "metadata": {},
   "outputs": [
    {
     "data": {
      "text/plain": [
       "0           Los Cauquenes Resort & Spa\n",
       "1                       HHC Hotels LLC\n",
       "2                         Odar kanawal\n",
       "3                       HHC Hotels LLC\n",
       "4                               南漳青豪旅馆\n",
       "5                Hacienda del Labrador\n",
       "6                 Old Post Guest House\n",
       "7                           La Justina\n",
       "8     Beijing Marriott Hotel Changping\n",
       "9                       HHC Hotels LLC\n",
       "10          Expeditions Ténére voyages\n",
       "11                  Vivanta Aurangabad\n",
       "12                    West Texas Lodge\n",
       "Name: Hotel Name, dtype: object"
      ]
     },
     "execution_count": 9,
     "metadata": {},
     "output_type": "execute_result"
    }
   ],
   "source": [
    "hotel_list1=hotel_df[\"Hotel Name\"]\n",
    "hotel_list1"
   ]
  },
  {
   "cell_type": "code",
   "execution_count": 10,
   "metadata": {},
   "outputs": [],
   "source": [
    "# NOTE: Do not change any of the code in this cell\n",
    "\n",
    "# Using the template add the hotel marks to the heatmap\n",
    "info_box_template = \"\"\"\n",
    "<dl>\n",
    "<dt>Name</dt><dd>{Hotel Name}</dd>\n",
    "<dt>City</dt><dd>{city}</dd>\n",
    "<dt>Country</dt><dd>{Country}</dd>\n",
    "</dl>\n",
    "\"\"\"\n",
    "# Store the DataFrame Row\n",
    "# NOTE: be sure to update with your DataFrame name\n",
    "hotel_info = [info_box_template.format(**row) for index, row in hotel_df.iterrows()]\n"
   ]
  },
  {
   "cell_type": "code",
   "execution_count": 11,
   "metadata": {
    "scrolled": true
   },
   "outputs": [
    {
     "data": {
      "application/vnd.jupyter.widget-view+json": {
       "model_id": "fd029a4c9f784fc2ba65c22aeae4c9c8",
       "version_major": 2,
       "version_minor": 0
      },
      "text/plain": [
       "Figure(layout=FigureLayout(height='420px'))"
      ]
     },
     "metadata": {},
     "output_type": "display_data"
    }
   ],
   "source": [
    "# Add marker layer ontop of heat map\n",
    "locations=hotel_df[['lat','lng']]\n",
    "marker_layer = gmaps.symbol_layer(\n",
    "    locations, fill_color='rgba(0, 150, 0, 0.4)',\n",
    "    stroke_color='rgba(0, 0, 150, 0.4)', scale=2,\n",
    "    info_box_content=[f\"Hotel : {hotel}\" for hotel in hotel_list1]\n",
    ")\n",
    "\n",
    "fig=gmaps.figure()\n",
    "fig.add_layer(heat_layer)\n",
    "fig.add_layer(marker_layer)\n",
    "\n",
    "fig"
   ]
  },
  {
   "cell_type": "code",
   "execution_count": null,
   "metadata": {},
   "outputs": [],
   "source": []
  }
 ],
 "metadata": {
  "kernelspec": {
   "display_name": "Python 3",
   "language": "python",
   "name": "python3"
  },
  "language_info": {
   "codemirror_mode": {
    "name": "ipython",
    "version": 3
   },
   "file_extension": ".py",
   "mimetype": "text/x-python",
   "name": "python",
   "nbconvert_exporter": "python",
   "pygments_lexer": "ipython3",
   "version": "3.7.4"
  },
  "latex_envs": {
   "LaTeX_envs_menu_present": true,
   "autoclose": false,
   "autocomplete": true,
   "bibliofile": "biblio.bib",
   "cite_by": "apalike",
   "current_citInitial": 1,
   "eqLabelWithNumbers": true,
   "eqNumInitial": 1,
   "hotkeys": {
    "equation": "Ctrl-E",
    "itemize": "Ctrl-I"
   },
   "labels_anchors": false,
   "latex_user_defs": false,
   "report_style_numbering": false,
   "user_envs_cfg": false
  }
 },
 "nbformat": 4,
 "nbformat_minor": 2
}
